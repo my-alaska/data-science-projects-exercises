{
 "cells": [
  {
   "cell_type": "markdown",
   "id": "605c6227",
   "metadata": {},
   "source": [
    "# Number of word occurences in text"
   ]
  },
  {
   "cell_type": "code",
   "execution_count": 1,
   "id": "83450795",
   "metadata": {},
   "outputs": [],
   "source": [
    "import pandas as pd\n",
    "import numpy as np\n",
    "import matplotlib.pyplot as plt\n",
    "import string\n",
    "import os\n",
    "from collections import defaultdict\n",
    "from scipy.special import factorial"
   ]
  },
  {
   "cell_type": "code",
   "execution_count": 2,
   "id": "ab2342af",
   "metadata": {},
   "outputs": [
    {
     "data": {
      "text/plain": [
       "['.ipynb_checkpoints', 'bible.txt', 'example.ipynb']"
      ]
     },
     "execution_count": 2,
     "metadata": {},
     "output_type": "execute_result"
    }
   ],
   "source": [
    "os.listdir()"
   ]
  },
  {
   "cell_type": "markdown",
   "id": "0309cf95",
   "metadata": {},
   "source": [
    "### extracting data from text into a cohesive dataframe"
   ]
  },
  {
   "cell_type": "code",
   "execution_count": 3,
   "id": "7857dab4",
   "metadata": {},
   "outputs": [
    {
     "data": {
      "text/plain": [
       "'!\"#$%&\\'()*+,-./:;<=>?@[\\\\]^_`{|}~0123456789'"
      ]
     },
     "execution_count": 3,
     "metadata": {},
     "output_type": "execute_result"
    }
   ],
   "source": [
    "# we'll use punctiation string to remove all puctuation and numbers from the text\n",
    "string.punctuation + '0123456789'"
   ]
  },
  {
   "cell_type": "code",
   "execution_count": 4,
   "id": "d6569187",
   "metadata": {},
   "outputs": [],
   "source": [
    "# translator is a tool that allows us for easy removal of the unwanted characters\n",
    "translator = str.maketrans('','',string.punctuation + '0123456789')"
   ]
  },
  {
   "cell_type": "code",
   "execution_count": 5,
   "id": "1a70f4af",
   "metadata": {},
   "outputs": [],
   "source": [
    "# let's create an array of all distinct words in the text\n",
    "fp = open('bible.txt')\n",
    "bible = fp.read()\n",
    "fp.close()\n",
    "bible= bible.translate(translator).lower().split()"
   ]
  },
  {
   "cell_type": "code",
   "execution_count": 6,
   "id": "dd67311c",
   "metadata": {
    "scrolled": false
   },
   "outputs": [],
   "source": [
    "# let's create a dictionary and use it to count the number of occurences for each word\n",
    "unique_words = defaultdict(lambda: 0)\n",
    "for word in bible:\n",
    "    unique_words[word] += 1"
   ]
  },
  {
   "cell_type": "code",
   "execution_count": 7,
   "id": "71f71f4b",
   "metadata": {
    "scrolled": false
   },
   "outputs": [],
   "source": [
    "# all words in descending order with respect to the number of their occurences\n",
    "sorted_words = sorted(list(unique_words.items()),key=lambda x: x[1],reverse=True)"
   ]
  },
  {
   "cell_type": "code",
   "execution_count": 8,
   "id": "245796e1",
   "metadata": {},
   "outputs": [],
   "source": [
    "# creating a pandas dataframe\n",
    "all_words = pd.DataFrame(sorted_words, columns = ['Words', 'Occurences'])\n",
    "all_words['Words'] = all_words['Words'].astype('string')"
   ]
  },
  {
   "cell_type": "code",
   "execution_count": 9,
   "id": "5e4e27fb",
   "metadata": {},
   "outputs": [
    {
     "name": "stdout",
     "output_type": "stream",
     "text": [
      "<class 'pandas.core.frame.DataFrame'>\n",
      "RangeIndex: 12733 entries, 0 to 12732\n",
      "Data columns (total 2 columns):\n",
      " #   Column      Non-Null Count  Dtype \n",
      "---  ------      --------------  ----- \n",
      " 0   Words       12733 non-null  string\n",
      " 1   Occurences  12733 non-null  int64 \n",
      "dtypes: int64(1), string(1)\n",
      "memory usage: 199.1 KB\n"
     ]
    }
   ],
   "source": [
    "all_words.info()"
   ]
  },
  {
   "cell_type": "code",
   "execution_count": 10,
   "id": "aec49cb4",
   "metadata": {},
   "outputs": [],
   "source": [
    "# it might be worth to include the length of each word in the dataframe might\n",
    "all_words['Length'] = all_words['Words'].str.len()"
   ]
  },
  {
   "cell_type": "code",
   "execution_count": 11,
   "id": "3fd73ccf",
   "metadata": {},
   "outputs": [
    {
     "data": {
      "text/html": [
       "<div>\n",
       "<style scoped>\n",
       "    .dataframe tbody tr th:only-of-type {\n",
       "        vertical-align: middle;\n",
       "    }\n",
       "\n",
       "    .dataframe tbody tr th {\n",
       "        vertical-align: top;\n",
       "    }\n",
       "\n",
       "    .dataframe thead th {\n",
       "        text-align: right;\n",
       "    }\n",
       "</style>\n",
       "<table border=\"1\" class=\"dataframe\">\n",
       "  <thead>\n",
       "    <tr style=\"text-align: right;\">\n",
       "      <th></th>\n",
       "      <th>Words</th>\n",
       "      <th>Occurences</th>\n",
       "      <th>Length</th>\n",
       "    </tr>\n",
       "  </thead>\n",
       "  <tbody>\n",
       "    <tr>\n",
       "      <th>0</th>\n",
       "      <td>the</td>\n",
       "      <td>63924</td>\n",
       "      <td>3</td>\n",
       "    </tr>\n",
       "    <tr>\n",
       "      <th>1</th>\n",
       "      <td>and</td>\n",
       "      <td>51696</td>\n",
       "      <td>3</td>\n",
       "    </tr>\n",
       "    <tr>\n",
       "      <th>2</th>\n",
       "      <td>of</td>\n",
       "      <td>34734</td>\n",
       "      <td>2</td>\n",
       "    </tr>\n",
       "    <tr>\n",
       "      <th>3</th>\n",
       "      <td>to</td>\n",
       "      <td>13561</td>\n",
       "      <td>2</td>\n",
       "    </tr>\n",
       "    <tr>\n",
       "      <th>4</th>\n",
       "      <td>that</td>\n",
       "      <td>12913</td>\n",
       "      <td>4</td>\n",
       "    </tr>\n",
       "    <tr>\n",
       "      <th>5</th>\n",
       "      <td>in</td>\n",
       "      <td>12667</td>\n",
       "      <td>2</td>\n",
       "    </tr>\n",
       "    <tr>\n",
       "      <th>6</th>\n",
       "      <td>he</td>\n",
       "      <td>10420</td>\n",
       "      <td>2</td>\n",
       "    </tr>\n",
       "    <tr>\n",
       "      <th>7</th>\n",
       "      <td>shall</td>\n",
       "      <td>9838</td>\n",
       "      <td>5</td>\n",
       "    </tr>\n",
       "  </tbody>\n",
       "</table>\n",
       "</div>"
      ],
      "text/plain": [
       "   Words  Occurences  Length\n",
       "0    the       63924       3\n",
       "1    and       51696       3\n",
       "2     of       34734       2\n",
       "3     to       13561       2\n",
       "4   that       12913       4\n",
       "5     in       12667       2\n",
       "6     he       10420       2\n",
       "7  shall        9838       5"
      ]
     },
     "execution_count": 11,
     "metadata": {},
     "output_type": "execute_result"
    }
   ],
   "source": [
    "all_words.head(8)"
   ]
  },
  {
   "cell_type": "markdown",
   "id": "17b63c54",
   "metadata": {},
   "source": [
    "### experimentation (having fun)"
   ]
  },
  {
   "cell_type": "code",
   "execution_count": 12,
   "id": "b61b775f",
   "metadata": {},
   "outputs": [
    {
     "data": {
      "text/plain": [
       "<matplotlib.collections.PathCollection at 0x1b566570430>"
      ]
     },
     "execution_count": 12,
     "metadata": {},
     "output_type": "execute_result"
    },
    {
     "data": {
      "image/png": "[encoded data removed]",
      "text/plain": [
       "<Figure size 720x360 with 1 Axes>"
      ]
     },
     "metadata": {
      "needs_background": "light"
     },
     "output_type": "display_data"
    }
   ],
   "source": [
    "# we can see that the distribution follows the zipf's law\n",
    "plt.figure(figsize=(10, 5))\n",
    "plt.scatter(np.arange(200), all_words['Occurences'][:200],s = 5)"
   ]
  },
  {
   "cell_type": "code",
   "execution_count": 13,
   "id": "cfd32b02",
   "metadata": {},
   "outputs": [],
   "source": [
    "# we can extract the words that start with vowels and consonants(this is done for fun)\n",
    "vowels = all_words[ all_words['Words'].str[0].isin(['a','e','i','o','u','y']) ]\n",
    "consonants = all_words[ ~all_words['Words'].str[0].isin(['a','e','i','o','u','y']) ]"
   ]
  },
  {
   "cell_type": "code",
   "execution_count": 14,
   "id": "08f115e7",
   "metadata": {},
   "outputs": [
    {
     "data": {
      "text/plain": [
       "<matplotlib.collections.PathCollection at 0x1b569a9e500>"
      ]
     },
     "execution_count": 14,
     "metadata": {},
     "output_type": "execute_result"
    },
    {
     "data": {
      "image/png": "[encoded data removed]",
      "text/plain": [
       "<Figure size 720x360 with 1 Axes>"
      ]
     },
     "metadata": {
      "needs_background": "light"
     },
     "output_type": "display_data"
    }
   ],
   "source": [
    "plt.figure(figsize=(10, 5))\n",
    "plt.scatter(np.arange(200), vowels['Occurences'][:200],s = 5)"
   ]
  },
  {
   "cell_type": "code",
   "execution_count": 15,
   "id": "c856bec5",
   "metadata": {},
   "outputs": [
    {
     "data": {
      "text/plain": [
       "<matplotlib.collections.PathCollection at 0x1b569b12c80>"
      ]
     },
     "execution_count": 15,
     "metadata": {},
     "output_type": "execute_result"
    },
    {
     "data": {
      "image/png": "[encoded data removed]",
      "text/plain": [
       "<Figure size 720x360 with 1 Axes>"
      ]
     },
     "metadata": {
      "needs_background": "light"
     },
     "output_type": "display_data"
    }
   ],
   "source": [
    "plt.figure(figsize=(10, 5))\n",
    "plt.scatter(np.arange(200), consonants['Occurences'][:200],s = 5)"
   ]
  },
  {
   "cell_type": "code",
   "execution_count": 16,
   "id": "d951e38f",
   "metadata": {},
   "outputs": [
    {
     "data": {
      "text/plain": [
       "18"
      ]
     },
     "execution_count": 16,
     "metadata": {},
     "output_type": "execute_result"
    }
   ],
   "source": [
    "# what's the length of the longest word in the text\n",
    "max_word_length = all_words['Length'].max()\n",
    "max_word_length"
   ]
  },
  {
   "cell_type": "code",
   "execution_count": 17,
   "id": "841dd932",
   "metadata": {},
   "outputs": [
    {
     "data": {
      "text/plain": [
       "1     18096\n",
       "2    130962\n",
       "3    222307\n",
       "4    180035\n",
       "5     98253\n",
       "6     61090\n",
       "7     45531\n",
       "8     27749\n",
       "Name: Occurance, dtype: int64"
      ]
     },
     "execution_count": 17,
     "metadata": {},
     "output_type": "execute_result"
    }
   ],
   "source": [
    "# interesting\n",
    "# now let's extract information about how many words of each length appear in the text\n",
    "occurance_no = all_words.groupby(['Length'])['Occurences'].sum()\n",
    "occurance_no.index.name= None\n",
    "occurance_no.name = 'Occurance'\n",
    "occurance_no = occurance_no.reindex(list(range(1,max_word_length+1)), fill_value=0)\n",
    "occurance_no.head(8)"
   ]
  },
  {
   "cell_type": "code",
   "execution_count": 18,
   "id": "ca42e9ba",
   "metadata": {},
   "outputs": [
    {
     "data": {
      "text/plain": [
       "1       3\n",
       "2      39\n",
       "3     309\n",
       "4    1100\n",
       "5    1744\n",
       "6    2224\n",
       "7    2236\n",
       "8    1820\n",
       "Name: Instance, dtype: Int64"
      ]
     },
     "execution_count": 18,
     "metadata": {},
     "output_type": "execute_result"
    }
   ],
   "source": [
    "# what if we consider only the fact that the word occurs instead of the number of \n",
    "instance_no = all_words['Length'].value_counts()\n",
    "instance_no.name = 'Instance'\n",
    "instance_no = instance_no.reindex(list(range(1,max_word_length+1)), fill_value=0)\n",
    "instance_no.head(8)"
   ]
  },
  {
   "cell_type": "code",
   "execution_count": 19,
   "id": "676697a0",
   "metadata": {},
   "outputs": [
    {
     "name": "stdout",
     "output_type": "stream",
     "text": [
      "4.180129920593255\n",
      "7.109793450090317\n"
     ]
    }
   ],
   "source": [
    "# what are their means??\n",
    "print((occurance_no.index*occurance_no).sum()/occurance_no.sum())\n",
    "print((instance_no.index*instance_no).sum()/instance_no.sum())"
   ]
  },
  {
   "cell_type": "code",
   "execution_count": 20,
   "id": "bd48f8b5",
   "metadata": {},
   "outputs": [
    {
     "data": {
      "text/plain": [
       "<matplotlib.collections.PathCollection at 0x1b569bac460>"
      ]
     },
     "execution_count": 20,
     "metadata": {},
     "output_type": "execute_result"
    },
    {
     "data": {
      "image/png": "[encoded data removed]",
      "text/plain": [
       "<Figure size 504x360 with 1 Axes>"
      ]
     },
     "metadata": {
      "needs_background": "light"
     },
     "output_type": "display_data"
    }
   ],
   "source": [
    "# how does the distrubution of wor instances look?\n",
    "plt.figure(figsize=(7, 5))\n",
    "plt.scatter(instance_no.index,instance_no/instance_no.sum(),s=8)"
   ]
  },
  {
   "cell_type": "code",
   "execution_count": 21,
   "id": "0151204a",
   "metadata": {},
   "outputs": [],
   "source": [
    "# maybe it's a poisson distribution?\n",
    "def poisson(y):\n",
    "    m = (y.index*y).sum()/y.sum()\n",
    "    i = y.index\n",
    "    new_y = np.exp(-m)*(m**i)/factorial(i)\n",
    "    return new_y"
   ]
  },
  {
   "cell_type": "code",
   "execution_count": 22,
   "id": "b5634098",
   "metadata": {},
   "outputs": [
    {
     "data": {
      "text/plain": [
       "<matplotlib.collections.PathCollection at 0x1b569c18790>"
      ]
     },
     "execution_count": 22,
     "metadata": {},
     "output_type": "execute_result"
    },
    {
     "data": {
      "image/png": "[encoded data removed]",
      "text/plain": [
       "<Figure size 504x360 with 1 Axes>"
      ]
     },
     "metadata": {
      "needs_background": "light"
     },
     "output_type": "display_data"
    }
   ],
   "source": [
    "plt.figure(figsize=(7, 5))\n",
    "plt.scatter(instance_no.index,poisson(instance_no),s=8) #TODO test the difference"
   ]
  },
  {
   "cell_type": "code",
   "execution_count": 23,
   "id": "ee092681",
   "metadata": {},
   "outputs": [
    {
     "data": {
      "text/plain": [
       "<matplotlib.collections.PathCollection at 0x1b569c7c850>"
      ]
     },
     "execution_count": 23,
     "metadata": {},
     "output_type": "execute_result"
    },
    {
     "data": {
      "image/png": "[encoded data removed]",
      "text/plain": [
       "<Figure size 504x360 with 1 Axes>"
      ]
     },
     "metadata": {
      "needs_background": "light"
     },
     "output_type": "display_data"
    }
   ],
   "source": [
    "# not bad. But the other distribution - distribution of occurences doesn't look so good\n",
    "plt.figure(figsize=(7, 5))\n",
    "plt.scatter(occurance_no.index,occurance_no/occurance_no.sum(),s=8)"
   ]
  },
  {
   "cell_type": "code",
   "execution_count": 24,
   "id": "20e2a31d",
   "metadata": {},
   "outputs": [],
   "source": [
    "# potentially displaced poisson distribution or negative binomial distribution?? (idk I've found it somewhere on the internet)"
   ]
  }
 ],
 "metadata": {
  "kernelspec": {
   "display_name": "Python 3 (ipykernel)",
   "language": "python",
   "name": "python3"
  },
  "language_info": {
   "codemirror_mode": {
    "name": "ipython",
    "version": 3
   },
   "file_extension": ".py",
   "mimetype": "text/x-python",
   "name": "python",
   "nbconvert_exporter": "python",
   "pygments_lexer": "ipython3",
   "version": "3.10.4"
  }
 },
 "nbformat": 4,
 "nbformat_minor": 5
}
