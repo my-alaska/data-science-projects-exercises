{
 "cells": [
  {
   "cell_type": "markdown",
   "id": "a528062b",
   "metadata": {},
   "source": [
    "# Simple digit recognition\n",
    "\n",
    "Let's import useful tools and modules"
   ]
  },
  {
   "cell_type": "code",
   "execution_count": 1,
   "id": "93680b4b",
   "metadata": {},
   "outputs": [],
   "source": [
    "import mnist\n",
    "import numpy as np\n",
    "import matplotlib.pyplot as plt\n",
    "import tensorflow as tf\n",
    "from tensorflow import keras\n",
    "import seaborn as sns"
   ]
  },
  {
   "cell_type": "markdown",
   "id": "a7d0fb12",
   "metadata": {},
   "source": [
    "Let's print some of digits from MNIST dataset"
   ]
  },
  {
   "cell_type": "code",
   "execution_count": 2,
   "id": "bb5b1ac9",
   "metadata": {},
   "outputs": [],
   "source": [
    "img_size = 28\n",
    "space = 2"
   ]
  },
  {
   "cell_type": "code",
   "execution_count": 3,
   "id": "9b9f2838",
   "metadata": {},
   "outputs": [],
   "source": [
    "def plot_tiles(ax, data_img, no_rows, no_cols, img_size=28 , space=2):\n",
    "    \n",
    "    image = np.empty(shape=(no_rows * (img_size+space) - space, no_cols * (img_size+2) - space))\n",
    "    image.fill(np.nan)\n",
    "\n",
    "    for i in range(no_rows):\n",
    "        for j in range(no_cols):\n",
    "            x, y = j*(img_size+space), i*(img_size+space)\n",
    "            min_v, max_v = np.min(data_img[i,j]), np.max(data_img[i,j])\n",
    "            image[y:y+img_size,x:x+img_size] = (data_img[i,j]-min_v)/(max_v-min_v)\n",
    "\n",
    "    ax.matshow(image, cmap='gray', interpolation='none')\n",
    "    ax.axis('off')"
   ]
  },
  {
   "cell_type": "code",
   "execution_count": 4,
   "id": "e98c3051",
   "metadata": {
    "scrolled": true
   },
   "outputs": [
    {
     "data": {
      "image/png": "[encoded data removed]",
      "text/plain": [
       "<Figure size 720x360 with 1 Axes>"
      ]
     },
     "metadata": {
      "needs_background": "light"
     },
     "output_type": "display_data"
    }
   ],
   "source": [
    "fig = plt.figure(figsize=(10, 5))\n",
    "plot_tiles(plt.gca(), np.reshape(mnist.train_images()[:4*8], newshape=(4, 8, img_size, img_size)), 4, 8)\n",
    "plt.show()"
   ]
  },
  {
   "cell_type": "markdown",
   "id": "6b16f7fe",
   "metadata": {},
   "source": [
    "Let's prepare our train and test data"
   ]
  },
  {
   "cell_type": "code",
   "execution_count": 5,
   "id": "977e7b7d",
   "metadata": {},
   "outputs": [],
   "source": [
    "train_images = mnist.train_images().astype(np.float32) / 255.0\n",
    "train_labels = mnist.train_labels()\n",
    "\n",
    "order = np.random.permutation(len(train_images))\n",
    "\n",
    "train_images = train_images[order]\n",
    "train_labels = train_labels[order]\n",
    "\n",
    "train_images = np.reshape(train_images,newshape=(-1, img_size**2))"
   ]
  },
  {
   "cell_type": "code",
   "execution_count": 6,
   "id": "23e8f325",
   "metadata": {},
   "outputs": [],
   "source": [
    "test_images = mnist.test_images().astype(np.float32) / 255.0\n",
    "test_labels = mnist.test_labels()\n",
    "\n",
    "test_images = np.reshape(test_images, newshape=(-1, img_size**2))"
   ]
  },
  {
   "cell_type": "markdown",
   "id": "eabc7e4b",
   "metadata": {},
   "source": [
    "Let's create and train our model"
   ]
  },
  {
   "cell_type": "code",
   "execution_count": 7,
   "id": "7901000e",
   "metadata": {},
   "outputs": [],
   "source": [
    "recognition_model = keras.Sequential()\n",
    "\n",
    "recognition_model.add(keras.layers.Dense(450,'relu'))\n",
    "recognition_model.add(keras.layers.Dense(10,'softmax'))\n"
   ]
  },
  {
   "cell_type": "code",
   "execution_count": 8,
   "id": "9c1af28e",
   "metadata": {},
   "outputs": [],
   "source": [
    "recognition_model.compile('adam','sparse_categorical_crossentropy',['accuracy'])"
   ]
  },
  {
   "cell_type": "code",
   "execution_count": 9,
   "id": "95be78c1",
   "metadata": {},
   "outputs": [
    {
     "name": "stdout",
     "output_type": "stream",
     "text": [
      "Epoch 1/5\n",
      "1875/1875 [==============================] - 5s 3ms/step - loss: 0.2009 - accuracy: 0.9415\n",
      "Epoch 2/5\n",
      "1875/1875 [==============================] - 5s 3ms/step - loss: 0.0825 - accuracy: 0.9749\n",
      "Epoch 3/5\n",
      "1875/1875 [==============================] - 6s 3ms/step - loss: 0.0529 - accuracy: 0.9833\n",
      "Epoch 4/5\n",
      "1875/1875 [==============================] - 6s 3ms/step - loss: 0.0377 - accuracy: 0.9880\n",
      "Epoch 5/5\n",
      "1875/1875 [==============================] - 5s 3ms/step - loss: 0.0276 - accuracy: 0.9912\n"
     ]
    },
    {
     "data": {
      "text/plain": [
       "<keras.callbacks.History at 0x207da9749a0>"
      ]
     },
     "execution_count": 9,
     "metadata": {},
     "output_type": "execute_result"
    }
   ],
   "source": [
    "recognition_model.fit(train_images,train_labels,epochs = 5)"
   ]
  },
  {
   "cell_type": "markdown",
   "id": "8eb77c88",
   "metadata": {},
   "source": [
    "How accurate is it?"
   ]
  },
  {
   "cell_type": "code",
   "execution_count": 10,
   "id": "d47a5d52",
   "metadata": {},
   "outputs": [
    {
     "name": "stdout",
     "output_type": "stream",
     "text": [
      "313/313 [==============================] - 1s 1ms/step - loss: 0.0700 - accuracy: 0.9793\n"
     ]
    },
    {
     "data": {
      "text/plain": [
       "[0.07002457231283188, 0.9793000221252441]"
      ]
     },
     "execution_count": 10,
     "metadata": {},
     "output_type": "execute_result"
    }
   ],
   "source": [
    "recognition_model.evaluate(test_images,test_labels)"
   ]
  },
  {
   "cell_type": "code",
   "execution_count": 11,
   "id": "3e5af5db",
   "metadata": {},
   "outputs": [
    {
     "name": "stdout",
     "output_type": "stream",
     "text": [
      "313/313 [==============================] - 0s 1ms/step\n"
     ]
    }
   ],
   "source": [
    "test_predictions = recognition_model.predict(test_images).argmax(axis=1)\n",
    "\n",
    "conf_matrix = tf.math.confusion_matrix(test_labels,test_predictions)"
   ]
  },
  {
   "cell_type": "code",
   "execution_count": 12,
   "id": "885b2823",
   "metadata": {},
   "outputs": [
    {
     "data": {
      "image/png": "[encoded data removed]",
      "text/plain": [
       "<Figure size 576x432 with 2 Axes>"
      ]
     },
     "metadata": {
      "needs_background": "light"
     },
     "output_type": "display_data"
    }
   ],
   "source": [
    "plt.figure(figsize=(8,6))\n",
    "sns.heatmap(conf_matrix,annot=True,fmt='d')\n",
    "plt.xlabel(\"predictions\")\n",
    "plt.ylabel(\"labels\")\n",
    "plt.show()"
   ]
  },
  {
   "cell_type": "code",
   "execution_count": null,
   "id": "b2dfc1f1",
   "metadata": {},
   "outputs": [],
   "source": []
  }
 ],
 "metadata": {
  "kernelspec": {
   "display_name": "Python 3 (ipykernel)",
   "language": "python",
   "name": "python3"
  },
  "language_info": {
   "codemirror_mode": {
    "name": "ipython",
    "version": 3
   },
   "file_extension": ".py",
   "mimetype": "text/x-python",
   "name": "python",
   "nbconvert_exporter": "python",
   "pygments_lexer": "ipython3",
   "version": "3.10.4"
  }
 },
 "nbformat": 4,
 "nbformat_minor": 5
}
