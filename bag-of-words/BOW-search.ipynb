{
 "cells": [
  {
   "cell_type": "markdown",
   "id": "586f5bc6",
   "metadata": {},
   "source": [
    "# Simple bag of words searching"
   ]
  },
  {
   "cell_type": "markdown",
   "id": "b31400e3",
   "metadata": {},
   "source": [
    "Exrcise from data science course.\n",
    "The point of the exercise is to create a tool for finding a best file that matches a sentence provided by a user.\n",
    "The similarity between the sentence and text file should be calculated by comparing bag of words vectors using dot product"
   ]
  },
  {
   "cell_type": "code",
   "execution_count": 1,
   "id": "dfd37c36",
   "metadata": {},
   "outputs": [],
   "source": [
    "# Necessary tools for opening, creating and saving files, parsing strings and performing computation\n",
    "\n",
    "import numpy as np\n",
    "import pickle\n",
    "import string\n",
    "import os"
   ]
  },
  {
   "cell_type": "markdown",
   "id": "19e4d34a",
   "metadata": {},
   "source": [
    "Let's list the text files from directory 'guttenberg' containing several different text files"
   ]
  },
  {
   "cell_type": "code",
   "execution_count": 2,
   "id": "educated-compound",
   "metadata": {},
   "outputs": [
    {
     "data": {
      "text/plain": [
       "['austen-emma.txt',\n",
       " 'austen-persuasion.txt',\n",
       " 'austen-sense.txt',\n",
       " 'bible-kjv.txt',\n",
       " 'blake-poems.txt',\n",
       " 'bryant-stories.txt',\n",
       " 'burgess-busterbrown.txt',\n",
       " 'carroll-alice.txt',\n",
       " 'chesterton-ball.txt',\n",
       " 'chesterton-brown.txt',\n",
       " 'chesterton-thursday.txt',\n",
       " 'edgeworth-parents.txt',\n",
       " 'melville-moby_dick.txt',\n",
       " 'milton-paradise.txt',\n",
       " 'shakespeare-caesar.txt',\n",
       " 'shakespeare-hamlet.txt',\n",
       " 'shakespeare-macbeth.txt',\n",
       " 'whitman-leaves.txt']"
      ]
     },
     "execution_count": 2,
     "metadata": {},
     "output_type": "execute_result"
    }
   ],
   "source": [
    "os.listdir('gutenberg')"
   ]
  },
  {
   "cell_type": "markdown",
   "id": "8961d14e",
   "metadata": {},
   "source": [
    "We'll need to find a number of all words and create a set that will help us determine whether a words appear in any text"
   ]
  },
  {
   "cell_type": "code",
   "execution_count": 3,
   "id": "19cd6d92",
   "metadata": {},
   "outputs": [],
   "source": [
    "# we'll use punctiation string to remove all puctuation from texts\n",
    "string.punctuation\n",
    "translator = str.maketrans('','',string.punctuation)"
   ]
  },
  {
   "cell_type": "code",
   "execution_count": 4,
   "id": "8eef6f20",
   "metadata": {},
   "outputs": [],
   "source": [
    "# in a loop we'll remove all punctuation from each file \n",
    "# at the same time we'll create a dictionary serving as a set of all unique words in all files\n",
    "unique_words = {}\n",
    "directory = 'gutenberg'\n",
    "for file in os.listdir(directory):\n",
    "    fp = open(directory+'/'+ file)\n",
    "    text = fp.read()\n",
    "    fp.close()\n",
    "    text=text.translate(translator).split()\n",
    "    for word in text:\n",
    "        unique_words[word.lower()]=0\n"
   ]
  },
  {
   "cell_type": "code",
   "execution_count": 5,
   "id": "d9802086",
   "metadata": {},
   "outputs": [
    {
     "data": {
      "text/plain": [
       "57369"
      ]
     },
     "execution_count": 5,
     "metadata": {},
     "output_type": "execute_result"
    }
   ],
   "source": [
    "# number of all wards in all text files\n",
    "no_words = len(list(unique_words))\n",
    "no_words"
   ]
  },
  {
   "cell_type": "markdown",
   "id": "cbbfe95d",
   "metadata": {},
   "source": [
    "Now we'll create bag of words vector representation of each text"
   ]
  },
  {
   "cell_type": "code",
   "execution_count": 6,
   "id": "f63b7f10",
   "metadata": {
    "scrolled": false
   },
   "outputs": [],
   "source": [
    "# we'll create an individual index for each word that will allow us to vectorise the text with numpy array\n",
    "for i, word in enumerate(unique_words.keys()):\n",
    "    unique_words[word] = i"
   ]
  },
  {
   "cell_type": "code",
   "execution_count": 7,
   "id": "86157785",
   "metadata": {},
   "outputs": [],
   "source": [
    "# we'll save the index dictionary as a .pickle file\n",
    "with open('words.pickle','wb') as fp:\n",
    "    pickle.dump(unique_words,fp)"
   ]
  },
  {
   "cell_type": "code",
   "execution_count": 8,
   "id": "63962a67",
   "metadata": {},
   "outputs": [],
   "source": [
    "# now we'll create a vector for each text file and store those vectors in a dictionary with document names as keys\n",
    "docs = {}\n",
    "for file in os.listdir(directory):\n",
    "    fp = open(directory+'/'+ file)\n",
    "    text = fp.read()\n",
    "    fp.close()\n",
    "    text=text.translate(translator).split()\n",
    "    docs[file] = np.zeros(no_words)\n",
    "    for word in text:\n",
    "        docs[file][unique_words[word.lower()]]+=1\n"
   ]
  },
  {
   "cell_type": "code",
   "execution_count": 9,
   "id": "2748fb1d",
   "metadata": {},
   "outputs": [],
   "source": [
    "# we'll save the vector dictionary\n",
    "with open('docs.pickle','wb') as fp:\n",
    "    pickle.dump(docs,fp)"
   ]
  },
  {
   "cell_type": "code",
   "execution_count": 10,
   "id": "463d2687",
   "metadata": {},
   "outputs": [],
   "source": [
    "# now let's create a function that will return the best matching title\n",
    "def bow_search(text):\n",
    "    text=text.translate(translator).split()\n",
    "    vector = np.zeros(no_words)\n",
    "    for word in text:\n",
    "        if word in unique_words.keys():\n",
    "            vector[unique_words[word.lower()]]+=1\n",
    "\n",
    "    if np.linalg.norm(vector) == 0:\n",
    "        return None\n",
    "    else:        \n",
    "        titles = list(docs)\n",
    "        best_title = -1\n",
    "        best_value = -1\n",
    "        for i, title in enumerate(titles):\n",
    "            similarity = np.dot(vector,docs[title])/(np.linalg.norm(vector)*np.linalg.norm(docs[title]))\n",
    "#             print(title, similarity)\n",
    "            if similarity > best_value:\n",
    "                best_title = i\n",
    "                best_value = similarity\n",
    "#         print(\"\\n\",best_value,sep='')\n",
    "        return titles[best_title]"
   ]
  },
  {
   "cell_type": "code",
   "execution_count": 11,
   "id": "fd2585c0",
   "metadata": {},
   "outputs": [
    {
     "name": "stdout",
     "output_type": "stream",
     "text": [
      "enter text: paul\n",
      "edgeworth-parents.txt\n"
     ]
    }
   ],
   "source": [
    "# To find the best matching file we only need to evaluate the function\n",
    "text = input(\"enter text: \")\n",
    "print(bow_search(text))"
   ]
  }
 ],
 "metadata": {
  "kernelspec": {
   "display_name": "Python 3 (ipykernel)",
   "language": "python",
   "name": "python3"
  },
  "language_info": {
   "codemirror_mode": {
    "name": "ipython",
    "version": 3
   },
   "file_extension": ".py",
   "mimetype": "text/x-python",
   "name": "python",
   "nbconvert_exporter": "python",
   "pygments_lexer": "ipython3",
   "version": "3.10.4"
  }
 },
 "nbformat": 4,
 "nbformat_minor": 5
}
