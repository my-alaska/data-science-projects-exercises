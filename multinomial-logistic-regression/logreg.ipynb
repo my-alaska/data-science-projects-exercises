{
 "cells": [
  {
   "cell_type": "markdown",
   "id": "2a514e24",
   "metadata": {},
   "source": [
    "# multinomial logistic regression\n",
    "\n",
    "We'll use the mnist dataset"
   ]
  },
  {
   "cell_type": "code",
   "execution_count": 1,
   "id": "cfd862ee",
   "metadata": {},
   "outputs": [],
   "source": [
    "import mnist\n",
    "import numpy as np\n",
    "import matplotlib.pyplot as plt"
   ]
  },
  {
   "cell_type": "code",
   "execution_count": 2,
   "id": "1dcbfb3d",
   "metadata": {},
   "outputs": [],
   "source": [
    "img_size = 28\n",
    "space = 2"
   ]
  },
  {
   "cell_type": "code",
   "execution_count": 3,
   "id": "0c33f1ce",
   "metadata": {},
   "outputs": [],
   "source": [
    "def plot_tiles(ax, data_img, no_rows, no_cols, img_size=28 , space=2):\n",
    "    \n",
    "    image = np.empty(shape=(no_rows * (img_size+space) - space, no_cols * (img_size+2) - space))\n",
    "    image.fill(np.nan)\n",
    "\n",
    "    for i in range(no_rows):\n",
    "        for j in range(no_cols):\n",
    "            x, y = j*(img_size+space), i*(img_size+space)\n",
    "            min_v, max_v = np.min(data_img[i,j]), np.max(data_img[i,j])\n",
    "            image[y:y+img_size,x:x+img_size] = (data_img[i,j]-min_v)/(max_v-min_v)\n",
    "\n",
    "    ax.matshow(image, cmap='gray', interpolation='none')\n",
    "    ax.axis('off')"
   ]
  },
  {
   "cell_type": "code",
   "execution_count": 4,
   "id": "01f531d0",
   "metadata": {},
   "outputs": [
    {
     "data": {
      "image/png": "[encoded data removed]",
      "text/plain": [
       "<Figure size 720x360 with 1 Axes>"
      ]
     },
     "metadata": {
      "needs_background": "light"
     },
     "output_type": "display_data"
    }
   ],
   "source": [
    "fig = plt.figure(figsize=(10, 5))\n",
    "plot_tiles(plt.gca(), np.reshape(mnist.train_images()[:4*8], newshape=(4, 8, img_size, img_size)), 4, 8)\n",
    "plt.show()"
   ]
  },
  {
   "cell_type": "markdown",
   "id": "94dff121",
   "metadata": {},
   "source": [
    "## data preparation\n",
    "\n",
    "Let's prepare the training set ..."
   ]
  },
  {
   "cell_type": "code",
   "execution_count": 5,
   "id": "fd0f38aa",
   "metadata": {},
   "outputs": [],
   "source": [
    "train_images = mnist.train_images().astype(np.float32) / 255.0\n",
    "train_labels = mnist.train_labels()\n",
    "\n",
    "order = np.random.permutation(len(train_images))\n",
    "\n",
    "train_images = train_images[order]\n",
    "train_labels = train_labels[order]\n",
    "\n",
    "#we'll transform the images int one dimensional vectors\n",
    "train_images = np.reshape(train_images,newshape=(-1, img_size**2))\n",
    "\n",
    "ones = np.ones((train_images.shape[0], 1))\n",
    "train_images = np.concatenate((train_images, ones), axis=1)\n",
    "\n",
    "one_hot = np.zeros(shape = (train_labels.shape[0], np.max(train_labels) + 1))\n",
    "one_hot[np.arange(train_labels.shape[0]), train_labels] = 1\n",
    "\n",
    "train_labels = one_hot.astype(np.float32)"
   ]
  },
  {
   "cell_type": "markdown",
   "id": "fdc3c206",
   "metadata": {},
   "source": [
    "... and testing set"
   ]
  },
  {
   "cell_type": "code",
   "execution_count": 6,
   "id": "e8c13870",
   "metadata": {},
   "outputs": [],
   "source": [
    "test_images = mnist.test_images().astype(np.float32) / 255.0\n",
    "test_labels = mnist.test_labels()\n",
    "\n",
    "test_images = np.reshape(test_images, newshape=(-1, img_size**2))\n",
    "\n",
    "t_ones = np.ones((test_images.shape[0], 1))\n",
    "test_images = np.concatenate((test_images, t_ones), axis=1)\n",
    "\n",
    "t_one_hot = np.zeros(shape = (test_labels.shape[0], np.max(test_labels) + 1))\n",
    "t_one_hot[np.arange(test_labels.shape[0]), test_labels] = 1\n",
    "\n",
    "test_labels = t_one_hot.astype(np.float32)"
   ]
  },
  {
   "cell_type": "markdown",
   "id": "3ce1ef97",
   "metadata": {},
   "source": [
    "To use logistic regression we'll need a link function. In this case(of multinomial logistic regression) it will be a softmax function:\n",
    "\n",
    "$\\pi_{ij} = \\dfrac{e^{z_{ij}}}{\\Sigma_{l=1}^k e^{z_{il}}}$\n",
    "\n",
    "The function will take z as classification logits(certain combinations of model parameters and explanatory variables)\n",
    "\n",
    "High value of the function for certain j means greater probability of classifying the data to this j's class"
   ]
  },
  {
   "cell_type": "code",
   "execution_count": 7,
   "id": "2b420624",
   "metadata": {},
   "outputs": [],
   "source": [
    "def softmax(Z):\n",
    "    Zmax = np.max(Z,axis=1,keepdims=True) # without this variable we can get overflow problems for big values of Z\n",
    "    return np.exp(Z-Zmax)/np.sum(np.exp(Z-Zmax),axis=1,keepdims = True)"
   ]
  },
  {
   "cell_type": "markdown",
   "id": "74cdf1d3",
   "metadata": {},
   "source": [
    "We'll need a certain cost function and it's gradient function.\n",
    "\n",
    "We'll have to follow the gradient function to train our model\n",
    "\n",
    "We'll use cross entropy function"
   ]
  },
  {
   "cell_type": "code",
   "execution_count": 8,
   "id": "162943fa",
   "metadata": {},
   "outputs": [],
   "source": [
    "# S is categorical probability distribution(output of softmax function) for certain observations\n",
    "# T is the vector of encoded labels for the same observations\n",
    "# we'll try to locally minimize the output value of this function by following the gradient\n",
    "def xentropy(S, T):\n",
    "    R = T*np.log(S)\n",
    "    return -1*np.sum(R)/np.size(S,axis = 0) \n",
    "\n",
    "# X is vector of explanatory variables for certain observations\n",
    "# S and T as in xentropy function above for the observations reffered in the line above\n",
    "# the function returns average(per input observation) gradient value of xentropy function\n",
    "def grad_xentropy(X, S, T):\n",
    "    R = X.T@(S-T)\n",
    "    return R/np.size(S, axis = 0)"
   ]
  },
  {
   "cell_type": "markdown",
   "id": "695fe286",
   "metadata": {},
   "source": [
    "Now we'll also need 2 functions. One that will classify our data after the model is trained and the other one that will calculate the accuracy of our predictions"
   ]
  },
  {
   "cell_type": "code",
   "execution_count": 9,
   "id": "82e03e73",
   "metadata": {},
   "outputs": [],
   "source": [
    "# W is a vector of model parameters\n",
    "# X is a \n",
    "def classify(W, X):\n",
    "    # logit vector\n",
    "    Z = X@W\n",
    "    \n",
    "    # softmax value(probability of belonging to each category)\n",
    "    S = softmax(Z)\n",
    "    \n",
    "    predictions = (S==np.max(S,axis = 1, keepdims = True))\n",
    "    return predictions.astype(int)"
   ]
  },
  {
   "cell_type": "code",
   "execution_count": 10,
   "id": "639c44e4",
   "metadata": {},
   "outputs": [],
   "source": [
    "# P is a vector of our predicted labels\n",
    "# T is a vector of true labels\n",
    "def accuracy(P, T):\n",
    "    acc = np.sum(P*T) / P.shape[0]\n",
    "    return 100.0 * acc"
   ]
  },
  {
   "cell_type": "markdown",
   "id": "b1f59dd4",
   "metadata": {},
   "source": [
    "Now let's create a function the training function"
   ]
  },
  {
   "cell_type": "code",
   "execution_count": 11,
   "id": "3da06fe4",
   "metadata": {},
   "outputs": [],
   "source": [
    "# W0 is an array with initial parameter values, shape\n",
    "# X is an containing train data\n",
    "# T is an array of true class labels for X\n",
    "# test_X is test data\n",
    "# test_T is an array of labels for test data\n",
    "# l2 is regularization hyper parameter\n",
    "# lr is lerning rate hyper pareameter\n",
    "# n_steps is number of gradient steps to perform\n",
    "# progress check is number of steps between each progress check\n",
    "\n",
    "def fit(W0, X, T, test_X, test_T, l2=0.005, lr=1.0, n_steps=100, progress_check=5):\n",
    "    W = np.copy(W0)\n",
    "    \n",
    "    for step in range(n_steps):\n",
    "        \n",
    "        S = softmax(X@W)\n",
    "        \n",
    "        W -= lr*(grad_xentropy(X, S, T) + l2*W)\n",
    "        \n",
    "        \n",
    "        \n",
    "        P = classify(W, X)\n",
    "        train_acc = accuracy(P, T)\n",
    "        \n",
    "        test_P = classify(W, test_X)\n",
    "        test_acc = accuracy(test_P, test_T)\n",
    "        \n",
    "        if step == 0 or (step + 1) % progress_check == 0:\n",
    "            log = 'Step {:3d}\\tcost value: {:5.2f},\\ttrain accuracy: {:5.2f},\\t validation accuracy: {:5.2f}'\n",
    "            log = log.format(step, xentropy(S,T).item(), train_acc.item(), test_acc.item())\n",
    "            print(log)\n",
    "    \n",
    "    return W"
   ]
  },
  {
   "cell_type": "code",
   "execution_count": 12,
   "id": "56d63f2e",
   "metadata": {},
   "outputs": [
    {
     "name": "stdout",
     "output_type": "stream",
     "text": [
      "Step   0\tcost value: 13.71,\ttrain accuracy: 22.48,\t validation accuracy: 22.80\n",
      "Step   9\tcost value:  3.20,\ttrain accuracy: 61.09,\t validation accuracy: 61.84\n",
      "Step  19\tcost value:  1.51,\ttrain accuracy: 70.08,\t validation accuracy: 70.13\n",
      "Step  29\tcost value:  1.70,\ttrain accuracy: 73.07,\t validation accuracy: 73.18\n",
      "Step  39\tcost value:  1.47,\ttrain accuracy: 74.64,\t validation accuracy: 74.88\n",
      "Step  49\tcost value:  1.30,\ttrain accuracy: 75.20,\t validation accuracy: 75.53\n",
      "Step  59\tcost value:  1.53,\ttrain accuracy: 74.07,\t validation accuracy: 74.25\n",
      "Step  69\tcost value:  1.15,\ttrain accuracy: 75.87,\t validation accuracy: 76.43\n",
      "Step  79\tcost value:  1.32,\ttrain accuracy: 71.50,\t validation accuracy: 71.60\n",
      "Step  89\tcost value:  0.93,\ttrain accuracy: 74.44,\t validation accuracy: 74.74\n",
      "Step  99\tcost value:  0.70,\ttrain accuracy: 80.35,\t validation accuracy: 80.77\n",
      "Step 109\tcost value:  1.30,\ttrain accuracy: 70.18,\t validation accuracy: 70.31\n",
      "Step 119\tcost value:  0.65,\ttrain accuracy: 81.10,\t validation accuracy: 81.82\n",
      "Step 129\tcost value:  2.76,\ttrain accuracy: 79.62,\t validation accuracy: 79.41\n",
      "Step 139\tcost value:  1.44,\ttrain accuracy: 83.83,\t validation accuracy: 84.49\n",
      "Step 149\tcost value:  2.73,\ttrain accuracy: 64.80,\t validation accuracy: 65.14\n",
      "Step 159\tcost value:  1.83,\ttrain accuracy: 78.73,\t validation accuracy: 79.59\n",
      "Step 169\tcost value:  1.70,\ttrain accuracy: 82.69,\t validation accuracy: 83.59\n",
      "Step 179\tcost value:  2.02,\ttrain accuracy: 75.39,\t validation accuracy: 75.54\n",
      "Step 189\tcost value:  0.82,\ttrain accuracy: 84.51,\t validation accuracy: 85.25\n",
      "Step 199\tcost value:  1.83,\ttrain accuracy: 77.57,\t validation accuracy: 77.69\n"
     ]
    }
   ],
   "source": [
    "W0 = np.random.randn(img_size**2 + 1, 10)\n",
    "\n",
    "result_W = fit(W0,train_images,train_labels,test_images,test_labels,l2=0.005, lr=3.0,\n",
    "                   n_steps=200, progress_check=10)"
   ]
  },
  {
   "cell_type": "markdown",
   "id": "b56c1573",
   "metadata": {},
   "source": [
    "We should change our hyperparameters to achieve beter results"
   ]
  },
  {
   "cell_type": "code",
   "execution_count": 13,
   "id": "f7d71fac",
   "metadata": {},
   "outputs": [
    {
     "name": "stdout",
     "output_type": "stream",
     "text": [
      "Step   0\tcost value:  2.56,\ttrain accuracy: 79.24,\t validation accuracy: 79.47\n",
      "Step  24\tcost value:  0.40,\ttrain accuracy: 89.38,\t validation accuracy: 90.34\n",
      "Step  49\tcost value:  0.37,\ttrain accuracy: 89.77,\t validation accuracy: 90.65\n",
      "Step  74\tcost value:  0.36,\ttrain accuracy: 90.03,\t validation accuracy: 90.87\n",
      "Step  99\tcost value:  0.35,\ttrain accuracy: 90.18,\t validation accuracy: 91.04\n",
      "Step 124\tcost value:  0.34,\ttrain accuracy: 90.36,\t validation accuracy: 91.15\n",
      "Step 149\tcost value:  0.33,\ttrain accuracy: 90.49,\t validation accuracy: 91.29\n",
      "Step 174\tcost value:  0.33,\ttrain accuracy: 90.61,\t validation accuracy: 91.34\n",
      "Step 199\tcost value:  0.33,\ttrain accuracy: 90.77,\t validation accuracy: 91.42\n",
      "Step 224\tcost value:  0.33,\ttrain accuracy: 90.87,\t validation accuracy: 91.41\n",
      "Step 249\tcost value:  0.33,\ttrain accuracy: 90.95,\t validation accuracy: 91.45\n",
      "Step 274\tcost value:  0.33,\ttrain accuracy: 91.00,\t validation accuracy: 91.52\n",
      "Step 299\tcost value:  0.33,\ttrain accuracy: 91.04,\t validation accuracy: 91.53\n"
     ]
    }
   ],
   "source": [
    "result_W_2 = fit(result_W,train_images,train_labels,test_images,test_labels,l2=0.005, lr=0.3,\n",
    "                   n_steps=300, progress_check=25)"
   ]
  },
  {
   "cell_type": "code",
   "execution_count": 14,
   "id": "0d5fd653",
   "metadata": {},
   "outputs": [
    {
     "data": {
      "image/png": "[encoded data removed]",
      "text/plain": [
       "<Figure size 720x360 with 1 Axes>"
      ]
     },
     "metadata": {
      "needs_background": "light"
     },
     "output_type": "display_data"
    }
   ],
   "source": [
    "fig = plt.figure(figsize=(10, 5))\n",
    "plot_tiles(plt.gca(), np.reshape(result_W_2[:-1, :].T, newshape=(2, 5, 28, 28)), 2, 5)\n",
    "plt.show()"
   ]
  },
  {
   "cell_type": "code",
   "execution_count": null,
   "id": "cb08138f",
   "metadata": {},
   "outputs": [],
   "source": []
  }
 ],
 "metadata": {
  "kernelspec": {
   "display_name": "Python 3 (ipykernel)",
   "language": "python",
   "name": "python3"
  },
  "language_info": {
   "codemirror_mode": {
    "name": "ipython",
    "version": 3
   },
   "file_extension": ".py",
   "mimetype": "text/x-python",
   "name": "python",
   "nbconvert_exporter": "python",
   "pygments_lexer": "ipython3",
   "version": "3.10.4"
  }
 },
 "nbformat": 4,
 "nbformat_minor": 5
}
